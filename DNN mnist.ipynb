{
 "cells": [
  {
   "cell_type": "code",
   "execution_count": null,
   "metadata": {},
   "outputs": [],
   "source": [
    "import numpy as np\n",
    "import tensorflow as tf\n",
    "import os\n",
    "from datetime import datetime"
   ]
  },
  {
   "cell_type": "code",
   "execution_count": null,
   "metadata": {
    "collapsed": true
   },
   "outputs": [],
   "source": [
    "# params={}\n",
    "num_inputs=28*28\n",
    "num_hidden_layers=2\n",
    "num_neurons=[600,500,400,200]\n",
    "n_outputs=10\n",
    "learning_rate=0.001\n",
    "dropout_rate=0.5\n",
    "activation_func=tf.nn.elu\n",
    "initializer=tf.contrib.layers.xavier_initializer\n",
    "batch_mormalization_momentum=0.9\n",
    "optimizer_fn=tf.train.AdamOptimizer\n",
    "\n",
    "n_epochs=100\n",
    "batch_size=150\n",
    "\n",
    "\n",
    "now=datetime.utcnow().strftime(\"%Y%m%d%H%M%S\")\n",
    "root_logdir=\"tf_logs\"\n",
    "logdir=\"{}/run-{}/\".format(root_logdir,now)\n",
    "\n",
    "savedir='/tmp/my_model_final_new.ckpt'\n"
   ]
  },
  {
   "cell_type": "code",
   "execution_count": null,
   "metadata": {},
   "outputs": [],
   "source": [
    "# Load training and eval data\n",
    "mnist = tf.contrib.learn.datasets.load_dataset(\"mnist\")\n",
    "X_test=mnist.test.images.reshape((-1,28*28))\n",
    "y_test=mnist.test.labels"
   ]
  },
  {
   "cell_type": "code",
   "execution_count": null,
   "metadata": {
    "collapsed": true
   },
   "outputs": [],
   "source": [
    "def build_DNN_graph():\n",
    "    tf.reset_default_graph()\n",
    "    X=tf.placeholder(tf.float32,[None,num_inputs])\n",
    "    Y=tf.placeholder(tf.int32,[None])\n",
    "    training=tf.placeholder_with_default(False,shape=(),name='training')\n",
    "    inputs=X\n",
    "    global_step=tf.Variable(0,trainable=False,name='global_step')\n",
    "    \n",
    "    for i in range(num_hidden_layers):\n",
    "        inputs_before_act=tf.layers.dense(inputs,num_neurons[i],name='hidden_'+str(i))\n",
    "        batch_normalized_inputs=tf.layers.batch_normalization(inputs_before_act,training=training,momentum=batch_mormalization_momentum)\n",
    "        inputs=activation_func(batch_normalized_inputs,name='activation_function_'+str(i))\n",
    "        inputs=tf.layers.dropout(inputs,dropout_rate,training=training)\n",
    "        \n",
    "    logits=tf.layers.dense(inputs,n_outputs,name='logits')\n",
    "    entropies=tf.nn.sparse_softmax_cross_entropy_with_logits(labels=Y,logits=logits,name='entropies')\n",
    "    loss=tf.reduce_mean(entropies,name='loss')\n",
    "    optimizer=optimizer_fn(learning_rate)\n",
    "    training_op=optimizer.minimize(loss,global_step=global_step)\n",
    "    \n",
    "    correct=tf.nn.in_top_k(logits,Y,1)\n",
    "    accuracy=tf.reduce_mean(tf.cast(correct,tf.float32))\n",
    "\n",
    "    extra_update_ops=tf.get_collection(tf.GraphKeys.UPDATE_OPS)\n",
    "    init=tf.global_variables_initializer()\n",
    "    \n",
    "    loss_summary=tf.summary.scalar('loss',loss)\n",
    "    acc_summary=tf.summary.scalar('accuracy',accuracy)\n",
    "    summaries=tf.summary.merge_all()\n",
    "    file_writer=tf.summary.FileWriter(logdir,tf.get_default_graph())\n",
    "    saver=tf.train.Saver()\n",
    "    return X,Y,training,init,training_op,extra_update_ops,global_step,summaries,file_writer,saver\n",
    "    "
   ]
  },
  {
   "cell_type": "code",
   "execution_count": null,
   "metadata": {},
   "outputs": [],
   "source": [
    "X,Y,training,init,training_op,extra_update_ops,global_step,summaries,file_writer,saver=build_DNN_graph()\n",
    "with tf.Session()as sess: \n",
    "#     if os.path.isfile(savedir):\n",
    "#         saver.restore(sess,savedir)\n",
    "#     else:\n",
    "#         init.run()\n",
    "    init.run()\n",
    "    for epoch in range(n_epochs):\n",
    "        print (\"epoch\"+str(epoch))\n",
    "        for iteration in range(mnist.train.num_examples//batch_size):\n",
    "            step=global_step.eval()\n",
    "#             print (\"Iteration \"+str(iteration))\n",
    "            X_batch,y_batch=mnist.train.next_batch(batch_size)\n",
    "            X_batch=X_batch.reshape(-1,num_inputs)\n",
    "            \n",
    "#             step=epoch*(mnist.train.num_examples//batch_size)+iteration\n",
    "            if iteration%10==0:\n",
    "                summary_str=summaries.eval(feed_dict={X:X_test,Y:y_test,training:False})\n",
    "                file_writer.add_summary(summary_str,step)\n",
    "\n",
    "            sess.run([training_op],feed_dict={X:X_batch,Y:y_batch,training:True})\n",
    "#             print ('iter_loss',iloss)\n",
    "#         acc_train=accuracy.eval(feed_dict={X:X_batch,Y:y_batch,training:False})\n",
    "#         acc_test=accuracy.eval(feed_dict={X:X_test,Y:y_test,training:False})\n",
    "#         print(epoch,\"Train accuracy:\",acc_train,\"Test accuracy:\",acc_test)\n",
    "            \n",
    "        if (epoch%5)==0:# checkpoint every 5 epochs\n",
    "            save_path=saver.save(sess,savedir)\n",
    "    file_writer.close()\n",
    "\n",
    "    "
   ]
  },
  {
   "cell_type": "code",
   "execution_count": null,
   "metadata": {
    "collapsed": true
   },
   "outputs": [],
   "source": [
    "# print ('iterloss',3)"
   ]
  }
 ],
 "metadata": {
  "kernelspec": {
   "display_name": "Python [conda env:py3]",
   "language": "python",
   "name": "conda-env-py3-py"
  },
  "language_info": {
   "codemirror_mode": {
    "name": "ipython",
    "version": 3
   },
   "file_extension": ".py",
   "mimetype": "text/x-python",
   "name": "python",
   "nbconvert_exporter": "python",
   "pygments_lexer": "ipython3",
   "version": "3.6.4"
  }
 },
 "nbformat": 4,
 "nbformat_minor": 2
}
